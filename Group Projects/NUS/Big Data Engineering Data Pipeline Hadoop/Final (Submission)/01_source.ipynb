{
 "cells": [
  {
   "cell_type": "code",
   "execution_count": 1,
   "metadata": {},
   "outputs": [
    {
     "name": "stdout",
     "output_type": "stream",
     "text": [
      "Directory changed to: /home/centos/BigData/01_source\n"
     ]
    }
   ],
   "source": [
    "####----Check correct working directory----####\n",
    "import os\n",
    "wd = os.getcwd()\n",
    "if(wd != '/home/centos/BigData/01_source/'):\n",
    "    from os import chdir\n",
    "    chdir(\"/home/centos/BigData/01_source/\")\n",
    "    print(\"Directory changed to: \" + wd)\n",
    "else:\n",
    "    print(\"Correct current directory: \" + wd)"
   ]
  },
  {
   "cell_type": "code",
   "execution_count": 10,
   "metadata": {},
   "outputs": [
    {
     "name": "stdout",
     "output_type": "stream",
     "text": [
      "No old files found\n"
     ]
    }
   ],
   "source": [
    "####----Delete old files----####\n",
    "for files in os.listdir(wd):\n",
    "    if files.endswith(\".json\"):\n",
    "        os.remove(os.path.join(wd, files))\n",
    "        print(\"Old .json files removed\")\n",
    "    else:\n",
    "        status_json = 0\n",
    "        \n",
    "    if files.endswith(\".json.xz\"):\n",
    "        os.remove(os.path.join(wd, files))\n",
    "        print(\"Old .json.xz files removed\") \n",
    "    else:\n",
    "        status_json_xz = 0\n",
    "\n",
    "if (status_json + status_json_xz ==0):\n",
    "    print(\"No old files found\") "
   ]
  },
  {
   "cell_type": "code",
   "execution_count": 21,
   "metadata": {},
   "outputs": [
    {
     "name": "stdout",
     "output_type": "stream",
     "text": [
      "Requirement already satisfied: requests in /home/centos/anaconda3/lib/python3.7/site-packages (2.22.0)\n",
      "Requirement already satisfied: urllib3!=1.25.0,!=1.25.1,<1.26,>=1.21.1 in /home/centos/anaconda3/lib/python3.7/site-packages (from requests) (1.24.2)\n",
      "Requirement already satisfied: idna<2.9,>=2.5 in /home/centos/anaconda3/lib/python3.7/site-packages (from requests) (2.8)\n",
      "Requirement already satisfied: certifi>=2017.4.17 in /home/centos/anaconda3/lib/python3.7/site-packages (from requests) (2019.9.11)\n",
      "Requirement already satisfied: chardet<3.1.0,>=3.0.2 in /home/centos/anaconda3/lib/python3.7/site-packages (from requests) (3.0.4)\n",
      "Note: you may need to restart the kernel to use updated packages.\n",
      "\n",
      "Downloading \"allrecipes-recipes_20191123-204647.json.xz\"...\n",
      "\n",
      "\n",
      "Download completed and file stored in/home/centos/BigData/01_source\n"
     ]
    }
   ],
   "source": [
    "####----Webscape / Retrieve data----####\n",
    "%pip install requests\n",
    "\n",
    "import urllib.request\n",
    "\n",
    "import re\n",
    "import time\n",
    "url = 'https://archive.org/download/recipes-en-201706/allrecipes-recipes.json.xz'\n",
    "filename = str(re.findall(r\"([^\\/]+)(?=\\.\\w+\\.\\w+$)\", url)[0]) + '_' + (time.strftime('%Y%m%d-%H%M%S')) + str(re.findall(r\"(\\.\\w+\\.\\w+$)\", url)[0])\n",
    "\n",
    "print('\\nDownloading \\\"' + filename + '\\\"...\\n')\n",
    "\n",
    "urllib.request.urlretrieve(url, filename)\n",
    "\n",
    "print('\\nDownload completed and file stored in' + wd)"
   ]
  },
  {
   "cell_type": "code",
   "execution_count": 35,
   "metadata": {},
   "outputs": [
    {
     "name": "stdout",
     "output_type": "stream",
     "text": [
      "Error in unzipping file\n"
     ]
    }
   ],
   "source": [
    "####----Unzip files----####\n",
    "import re\n",
    "import os\n",
    "from os import system\n",
    "import subprocess\n",
    "from subprocess import PIPE, Popen\n",
    "\n",
    "retcode_tar = subprocess.call(['tar', '-xvfz', '-C', filename])\n",
    "\n",
    "if retcode_tar == 0:\n",
    "    print(\"Extracted successfully\")\n",
    "else:\n",
    "    retcode_unxz = subprocess.call(['unxz', filename])\n",
    "\n",
    "    if retcode_unxz == 0:\n",
    "        print(\"Extracted successfully\")\n",
    "    \n",
    "    else:\n",
    "        #raise IOError('tar exited with code %d' % retcode)\n",
    "        print(\"Error in unzipping file\")"
   ]
  },
  {
   "cell_type": "code",
   "execution_count": 51,
   "metadata": {
    "scrolled": true
   },
   "outputs": [
    {
     "name": "stdout",
     "output_type": "stream",
     "text": [
      "\n",
      "Upload completed and file stored in hdfs://localhost:9000/01_raw/allrecipes-recipes_20191123-204647.json\n"
     ]
    }
   ],
   "source": [
    "####----Upload file into HDFS----####\n",
    "unzipped_filename = str(re.findall(r\"([^\\/]+)(?=\\.\\w+\\.\\w+$)\", filename)[0]) +\".json\"\n",
    "\n",
    "#Create path to HDFS\n",
    "hdfs_path = os.path.join(os.sep, 'user', 'centos', '/01_raw/' + unzipped_filename)\n",
    "\n",
    "##Put files into HDFS\n",
    "subprocess.call([\"hdfs\", \"dfs\", \"-put\", \"-f\", wd + \"/\" + unzipped_filename, hdfs_path])\n",
    "\n",
    "#put_file = Popen([\"hdfs\", \"dfs\", \"-put -f\", wd + \"/\" + unzipped_filename, hdfs_path], stdin=PIPE, bufsize=-1)\n",
    "#put_file.communicate()\n",
    "\n",
    "print('\\nUpload completed and file stored in hdfs://localhost:9000' + hdfs_path)"
   ]
  },
  {
   "cell_type": "code",
   "execution_count": null,
   "metadata": {},
   "outputs": [],
   "source": []
  }
 ],
 "metadata": {
  "kernelspec": {
   "display_name": "Python 3",
   "language": "python",
   "name": "python3"
  },
  "language_info": {
   "codemirror_mode": {
    "name": "ipython",
    "version": 3
   },
   "file_extension": ".py",
   "mimetype": "text/x-python",
   "name": "python",
   "nbconvert_exporter": "python",
   "pygments_lexer": "ipython3",
   "version": "3.7.4"
  }
 },
 "nbformat": 4,
 "nbformat_minor": 2
}
