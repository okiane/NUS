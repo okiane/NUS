{
 "cells": [
  {
   "cell_type": "code",
   "execution_count": 1,
   "metadata": {},
   "outputs": [
    {
     "name": "stdout",
     "output_type": "stream",
     "text": [
      "Note: you may need to restart the kernel to use updated packages.\n"
     ]
    }
   ],
   "source": [
    "####----Import library----####\n",
    "%pip install pydrill -q\n",
    "import pydrill"
   ]
  },
  {
   "cell_type": "code",
   "execution_count": 2,
   "metadata": {},
   "outputs": [
    {
     "name": "stdout",
     "output_type": "stream",
     "text": [
      "Drill connected\n"
     ]
    }
   ],
   "source": [
    "####----Connection to Drill----####\n",
    "from pydrill.client import PyDrill\n",
    "\n",
    "drill = PyDrill(host = 'localhost', port = 8047)\n",
    "#drill = PyDrill(auth='drill_user:drill_password')\n",
    "\n",
    "if not drill.is_active():\n",
    "    #raise ImproperlyConfigured('Please run Drill first')\n",
    "    \n",
    "    import os \n",
    "    import subprocess\n",
    "    from subprocess import PIPE, Popen\n",
    "    # os.system('drillbit.sh start')\n",
    "    os.system('drill-embedded')\n",
    "    #os.popen('drill-embedded')\n",
    "    #!drill-embedded\n",
    "\n",
    "    #subprocess.call([\"drill-embedded\"], stdin = PIPE, bufsize = -1)\n",
    "    print(\"Please check if Drill is running\")\n",
    "    \n",
    "else:\n",
    "    print(\"Drill connected\")\n",
    "    \n"
   ]
  },
  {
   "cell_type": "code",
   "execution_count": null,
   "metadata": {},
   "outputs": [],
   "source": []
  },
  {
   "cell_type": "code",
   "execution_count": 3,
   "metadata": {},
   "outputs": [
    {
     "name": "stdout",
     "output_type": "stream",
     "text": [
      "\n",
      "Recipe Drill database copied and stored in hdfs://localhost:9000/02_store/Recipe_20191124-005945\n"
     ]
    }
   ],
   "source": [
    "####----Copy existing Drill Table----####\n",
    "import os \n",
    "from subprocess import PIPE, Popen\n",
    "\n",
    "\n",
    "##Create path on HDFS\n",
    "import re\n",
    "import time\n",
    "hdfs_path = os.path.join(os.sep, 'user', 'centos', '/02_store/' + 'Recipe')\n",
    "new_hdfs_path = hdfs_path + '_' + (time.strftime('%Y%m%d-%H%M%S')) #Store database archival date\n",
    "\n",
    "\n",
    "##Copy database in HDFS\n",
    "cp_file = Popen([\"hdfs\", \"dfs\", \"-mv\", hdfs_path, new_hdfs_path], stdin=PIPE, bufsize=-1)\n",
    "cp_file.communicate()\n",
    "\n",
    "print('\\nRecipe Drill database copied and stored in hdfs://localhost:9000' + new_hdfs_path)"
   ]
  },
  {
   "cell_type": "code",
   "execution_count": 4,
   "metadata": {},
   "outputs": [],
   "source": [
    "####----Drop existing Drill Table----####\n",
    "#drill.query(\"\"\"DROP TABLE hdfs.food.`Recipe`\"\"\")"
   ]
  },
  {
   "cell_type": "code",
   "execution_count": 5,
   "metadata": {
    "scrolled": true
   },
   "outputs": [
    {
     "data": {
      "text/plain": [
       "<pydrill.client.result.ResultQuery at 0x7fb83f889090>"
      ]
     },
     "execution_count": 5,
     "metadata": {},
     "output_type": "execute_result"
    }
   ],
   "source": [
    "####----Create Drill Table----####\n",
    "drill.query('''CREATE TABLE hdfs.food.`Recipe` as \n",
    "(SELECT * FROM hdfs.food.`Recipe*.csv`)''')"
   ]
  },
  {
   "cell_type": "code",
   "execution_count": 6,
   "metadata": {},
   "outputs": [
    {
     "data": {
      "text/html": [
       "<div>\n",
       "<style scoped>\n",
       "    .dataframe tbody tr th:only-of-type {\n",
       "        vertical-align: middle;\n",
       "    }\n",
       "\n",
       "    .dataframe tbody tr th {\n",
       "        vertical-align: top;\n",
       "    }\n",
       "\n",
       "    .dataframe thead th {\n",
       "        text-align: right;\n",
       "    }\n",
       "</style>\n",
       "<table border=\"1\" class=\"dataframe\">\n",
       "  <thead>\n",
       "    <tr style=\"text-align: right;\">\n",
       "      <th></th>\n",
       "      <th>seafood</th>\n",
       "      <th>instructions</th>\n",
       "      <th>description</th>\n",
       "      <th>review_count</th>\n",
       "      <th>lactose</th>\n",
       "      <th>title</th>\n",
       "      <th>url</th>\n",
       "      <th>total_time_minutes</th>\n",
       "      <th>vegetarian_label</th>\n",
       "      <th>extract_count</th>\n",
       "      <th>ingredients</th>\n",
       "      <th>rating_stars</th>\n",
       "      <th>photo_url</th>\n",
       "      <th>nut_label</th>\n",
       "      <th>column_1</th>\n",
       "      <th>timestamp</th>\n",
       "    </tr>\n",
       "  </thead>\n",
       "  <tbody>\n",
       "    <tr>\n",
       "      <th>0</th>\n",
       "      <td>1</td>\n",
       "      <td>['Preheat oven to 350 degrees F. Mix meat, 1/2...</td>\n",
       "      <td>Stuffing mix adds an extra flavor boost to thi...</td>\n",
       "      <td>0</td>\n",
       "      <td>0</td>\n",
       "      <td>Family Classic Meatloaf</td>\n",
       "      <td>http://allrecipes.com/Recipe/130011/</td>\n",
       "      <td>60</td>\n",
       "      <td>0</td>\n",
       "      <td>7</td>\n",
       "      <td>['1 1/2 pounds extra lean ground beef'\\n '1 (1...</td>\n",
       "      <td>0.0</td>\n",
       "      <td>http://images.media-allrecipes.com/global/reci...</td>\n",
       "      <td>0</td>\n",
       "      <td>0</td>\n",
       "      <td>2019-11-24 00:40:49</td>\n",
       "    </tr>\n",
       "    <tr>\n",
       "      <th>1</th>\n",
       "      <td>1</td>\n",
       "      <td>['Top pizza crust with cheese. Bake crust acco...</td>\n",
       "      <td>Squares of cheesy pizza are served up with sli...</td>\n",
       "      <td>0</td>\n",
       "      <td>0</td>\n",
       "      <td>Johnsonville® Three Cheese Italian Style Chick...</td>\n",
       "      <td>http://allrecipes.com/Recipe/45110/</td>\n",
       "      <td>30</td>\n",
       "      <td>0</td>\n",
       "      <td>5</td>\n",
       "      <td>['1 (12 inch) pre-baked pizza crust'\\n '1 1/2 ...</td>\n",
       "      <td>0.0</td>\n",
       "      <td>http://images.media-allrecipes.com/global/reci...</td>\n",
       "      <td>0</td>\n",
       "      <td>1</td>\n",
       "      <td>2019-11-24 00:40:49</td>\n",
       "    </tr>\n",
       "    <tr>\n",
       "      <th>2</th>\n",
       "      <td>1</td>\n",
       "      <td>['Top pizza crust with cheese. Bake crust acco...</td>\n",
       "      <td>Squares of cheesy pizza are served up with sli...</td>\n",
       "      <td>0</td>\n",
       "      <td>0</td>\n",
       "      <td>Johnsonville® Three Cheese Italian Style Chick...</td>\n",
       "      <td>http://allrecipes.com/Recipe/100375/</td>\n",
       "      <td>30</td>\n",
       "      <td>0</td>\n",
       "      <td>5</td>\n",
       "      <td>['1 (12 inch) pre-baked pizza crust'\\n '1 1/2 ...</td>\n",
       "      <td>0.0</td>\n",
       "      <td>http://images.media-allrecipes.com/global/reci...</td>\n",
       "      <td>0</td>\n",
       "      <td>2</td>\n",
       "      <td>2019-11-24 00:40:49</td>\n",
       "    </tr>\n",
       "    <tr>\n",
       "      <th>3</th>\n",
       "      <td>1</td>\n",
       "      <td>['In a medium bowl, mix together the semolina ...</td>\n",
       "      <td>This is a traditional Middle Eastern dessert m...</td>\n",
       "      <td>16</td>\n",
       "      <td>0</td>\n",
       "      <td>Basboosa</td>\n",
       "      <td>http://allrecipes.com/Recipe/32743/</td>\n",
       "      <td>50</td>\n",
       "      <td>0</td>\n",
       "      <td>10</td>\n",
       "      <td>['1 1/2 cups semolina flour' '1/2 cup white su...</td>\n",
       "      <td>4.32</td>\n",
       "      <td>http://images.media-allrecipes.com/userphotos/...</td>\n",
       "      <td>1</td>\n",
       "      <td>3</td>\n",
       "      <td>2019-11-24 00:40:49</td>\n",
       "    </tr>\n",
       "    <tr>\n",
       "      <th>4</th>\n",
       "      <td>1</td>\n",
       "      <td>['Top pizza crust with cheese. Bake crust acco...</td>\n",
       "      <td>Squares of cheesy pizza are served up with sli...</td>\n",
       "      <td>0</td>\n",
       "      <td>0</td>\n",
       "      <td>Johnsonville® Three Cheese Italian Style Chick...</td>\n",
       "      <td>http://allrecipes.com/Recipe/127086/</td>\n",
       "      <td>30</td>\n",
       "      <td>0</td>\n",
       "      <td>5</td>\n",
       "      <td>['1 (12 inch) pre-baked pizza crust'\\n '1 1/2 ...</td>\n",
       "      <td>0.0</td>\n",
       "      <td>http://images.media-allrecipes.com/global/reci...</td>\n",
       "      <td>0</td>\n",
       "      <td>4</td>\n",
       "      <td>2019-11-24 00:40:49</td>\n",
       "    </tr>\n",
       "  </tbody>\n",
       "</table>\n",
       "</div>"
      ],
      "text/plain": [
       "  seafood                                       instructions  \\\n",
       "0       1  ['Preheat oven to 350 degrees F. Mix meat, 1/2...   \n",
       "1       1  ['Top pizza crust with cheese. Bake crust acco...   \n",
       "2       1  ['Top pizza crust with cheese. Bake crust acco...   \n",
       "3       1  ['In a medium bowl, mix together the semolina ...   \n",
       "4       1  ['Top pizza crust with cheese. Bake crust acco...   \n",
       "\n",
       "                                         description review_count lactose  \\\n",
       "0  Stuffing mix adds an extra flavor boost to thi...            0       0   \n",
       "1  Squares of cheesy pizza are served up with sli...            0       0   \n",
       "2  Squares of cheesy pizza are served up with sli...            0       0   \n",
       "3  This is a traditional Middle Eastern dessert m...           16       0   \n",
       "4  Squares of cheesy pizza are served up with sli...            0       0   \n",
       "\n",
       "                                               title  \\\n",
       "0                            Family Classic Meatloaf   \n",
       "1  Johnsonville® Three Cheese Italian Style Chick...   \n",
       "2  Johnsonville® Three Cheese Italian Style Chick...   \n",
       "3                                           Basboosa   \n",
       "4  Johnsonville® Three Cheese Italian Style Chick...   \n",
       "\n",
       "                                    url total_time_minutes vegetarian_label  \\\n",
       "0  http://allrecipes.com/Recipe/130011/                 60                0   \n",
       "1   http://allrecipes.com/Recipe/45110/                 30                0   \n",
       "2  http://allrecipes.com/Recipe/100375/                 30                0   \n",
       "3   http://allrecipes.com/Recipe/32743/                 50                0   \n",
       "4  http://allrecipes.com/Recipe/127086/                 30                0   \n",
       "\n",
       "  extract_count                                        ingredients  \\\n",
       "0             7  ['1 1/2 pounds extra lean ground beef'\\n '1 (1...   \n",
       "1             5  ['1 (12 inch) pre-baked pizza crust'\\n '1 1/2 ...   \n",
       "2             5  ['1 (12 inch) pre-baked pizza crust'\\n '1 1/2 ...   \n",
       "3            10  ['1 1/2 cups semolina flour' '1/2 cup white su...   \n",
       "4             5  ['1 (12 inch) pre-baked pizza crust'\\n '1 1/2 ...   \n",
       "\n",
       "  rating_stars                                          photo_url nut_label  \\\n",
       "0          0.0  http://images.media-allrecipes.com/global/reci...         0   \n",
       "1          0.0  http://images.media-allrecipes.com/global/reci...         0   \n",
       "2          0.0  http://images.media-allrecipes.com/global/reci...         0   \n",
       "3         4.32  http://images.media-allrecipes.com/userphotos/...         1   \n",
       "4          0.0  http://images.media-allrecipes.com/global/reci...         0   \n",
       "\n",
       "  column_1            timestamp  \n",
       "0        0  2019-11-24 00:40:49  \n",
       "1        1  2019-11-24 00:40:49  \n",
       "2        2  2019-11-24 00:40:49  \n",
       "3        3  2019-11-24 00:40:49  \n",
       "4        4  2019-11-24 00:40:49  "
      ]
     },
     "execution_count": 6,
     "metadata": {},
     "output_type": "execute_result"
    }
   ],
   "source": [
    "result = drill.query('''SELECT * FROM hdfs.food.`Recipe`''').to_dataframe()\n",
    "result.head()"
   ]
  },
  {
   "cell_type": "markdown",
   "metadata": {},
   "source": [
    "## Ingredients"
   ]
  },
  {
   "cell_type": "code",
   "execution_count": 7,
   "metadata": {},
   "outputs": [
    {
     "name": "stdout",
     "output_type": "stream",
     "text": [
      "\n",
      "Ing Drill database copied and stored in hdfs://localhost:9000/02_store/Ing_20191124-005955\n"
     ]
    }
   ],
   "source": [
    "####----Copy existing Drill Table----####\n",
    "import os \n",
    "from subprocess import PIPE, Popen\n",
    "\n",
    "\n",
    "##Create path on HDFS\n",
    "import re\n",
    "import time\n",
    "hdfs_path = os.path.join(os.sep, 'user', 'centos', '/02_store/' + 'Ing')\n",
    "new_hdfs_path = hdfs_path + '_' + (time.strftime('%Y%m%d-%H%M%S')) #Store database archival date\n",
    "\n",
    "\n",
    "##Copy database in HDFS\n",
    "cp_file = Popen([\"hdfs\", \"dfs\", \"-mv\", hdfs_path, new_hdfs_path], stdin=PIPE, bufsize=-1)\n",
    "cp_file.communicate()\n",
    "\n",
    "print('\\nIng Drill database copied and stored in hdfs://localhost:9000' + new_hdfs_path)"
   ]
  },
  {
   "cell_type": "code",
   "execution_count": 8,
   "metadata": {},
   "outputs": [],
   "source": [
    "####----Drop existing Drill Table----####\n",
    "#drill.query(\"\"\"DROP TABLE hdfs.food.`Ing`\"\"\")"
   ]
  },
  {
   "cell_type": "code",
   "execution_count": 9,
   "metadata": {
    "scrolled": true
   },
   "outputs": [
    {
     "data": {
      "text/plain": [
       "<pydrill.client.result.ResultQuery at 0x7fb83f30b1d0>"
      ]
     },
     "execution_count": 9,
     "metadata": {},
     "output_type": "execute_result"
    }
   ],
   "source": [
    "####----Create Drill Table----####\n",
    "drill.query('''CREATE TABLE hdfs.food.`Ing` as \n",
    "(SELECT * FROM hdfs.food.`Ing*.csv`)''')"
   ]
  },
  {
   "cell_type": "code",
   "execution_count": 10,
   "metadata": {},
   "outputs": [
    {
     "data": {
      "text/html": [
       "<div>\n",
       "<style scoped>\n",
       "    .dataframe tbody tr th:only-of-type {\n",
       "        vertical-align: middle;\n",
       "    }\n",
       "\n",
       "    .dataframe tbody tr th {\n",
       "        vertical-align: top;\n",
       "    }\n",
       "\n",
       "    .dataframe thead th {\n",
       "        text-align: right;\n",
       "    }\n",
       "</style>\n",
       "<table border=\"1\" class=\"dataframe\">\n",
       "  <thead>\n",
       "    <tr style=\"text-align: right;\">\n",
       "      <th></th>\n",
       "      <th>Recipe</th>\n",
       "      <th>Ingredient</th>\n",
       "      <th>column_1</th>\n",
       "    </tr>\n",
       "  </thead>\n",
       "  <tbody>\n",
       "    <tr>\n",
       "      <th>0</th>\n",
       "      <td>Family Classic Meatloaf</td>\n",
       "      <td>round</td>\n",
       "      <td>0</td>\n",
       "    </tr>\n",
       "    <tr>\n",
       "      <th>1</th>\n",
       "      <td>Family Classic Meatloaf</td>\n",
       "      <td>tomato</td>\n",
       "      <td>1</td>\n",
       "    </tr>\n",
       "    <tr>\n",
       "      <th>2</th>\n",
       "      <td>Family Classic Meatloaf</td>\n",
       "      <td>egg</td>\n",
       "      <td>2</td>\n",
       "    </tr>\n",
       "    <tr>\n",
       "      <th>3</th>\n",
       "      <td>Family Classic Meatloaf</td>\n",
       "      <td>onion</td>\n",
       "      <td>3</td>\n",
       "    </tr>\n",
       "    <tr>\n",
       "      <th>4</th>\n",
       "      <td>Family Classic Meatloaf</td>\n",
       "      <td>thyme</td>\n",
       "      <td>4</td>\n",
       "    </tr>\n",
       "  </tbody>\n",
       "</table>\n",
       "</div>"
      ],
      "text/plain": [
       "                    Recipe Ingredient column_1\n",
       "0  Family Classic Meatloaf      round        0\n",
       "1  Family Classic Meatloaf     tomato        1\n",
       "2  Family Classic Meatloaf        egg        2\n",
       "3  Family Classic Meatloaf      onion        3\n",
       "4  Family Classic Meatloaf      thyme        4"
      ]
     },
     "execution_count": 10,
     "metadata": {},
     "output_type": "execute_result"
    }
   ],
   "source": [
    "result = drill.query('''SELECT * FROM hdfs.food.`Ing`''').to_dataframe()\n",
    "result.head()"
   ]
  },
  {
   "cell_type": "code",
   "execution_count": null,
   "metadata": {},
   "outputs": [],
   "source": []
  }
 ],
 "metadata": {
  "kernelspec": {
   "display_name": "Python 3",
   "language": "python",
   "name": "python3"
  },
  "language_info": {
   "codemirror_mode": {
    "name": "ipython",
    "version": 3
   },
   "file_extension": ".py",
   "mimetype": "text/x-python",
   "name": "python",
   "nbconvert_exporter": "python",
   "pygments_lexer": "ipython3",
   "version": "3.7.4"
  }
 },
 "nbformat": 4,
 "nbformat_minor": 2
}
